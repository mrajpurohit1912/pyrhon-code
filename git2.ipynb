{
 "cells": [
  {
   "cell_type": "code",
   "execution_count": 1,
   "id": "be1e8eb1-1c9c-47da-adad-e2b281c74d8e",
   "metadata": {},
   "outputs": [],
   "source": [
    "a = \"git2\""
   ]
  },
  {
   "cell_type": "code",
   "execution_count": 2,
   "id": "8070b038-ac75-48d9-b5a5-f9527d114014",
   "metadata": {},
   "outputs": [
    {
     "name": "stdout",
     "output_type": "stream",
     "text": [
      "git2\n"
     ]
    }
   ],
   "source": [
    "print(a)"
   ]
  },
  {
   "cell_type": "code",
   "execution_count": null,
   "id": "a07be6d0-041a-4ef5-90c9-309ab795e9d6",
   "metadata": {},
   "outputs": [],
   "source": [
    "\n",
    "\n",
    "git push origin HEAD:master\n"
   ]
  }
 ],
 "metadata": {
  "kernelspec": {
   "display_name": "Python 3 (ipykernel)",
   "language": "python",
   "name": "python3"
  },
  "language_info": {
   "codemirror_mode": {
    "name": "ipython",
    "version": 3
   },
   "file_extension": ".py",
   "mimetype": "text/x-python",
   "name": "python",
   "nbconvert_exporter": "python",
   "pygments_lexer": "ipython3",
   "version": "3.9.12"
  }
 },
 "nbformat": 4,
 "nbformat_minor": 5
}
