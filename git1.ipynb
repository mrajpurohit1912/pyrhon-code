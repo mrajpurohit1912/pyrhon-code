{
 "cells": [
  {
   "cell_type": "code",
   "execution_count": 1,
   "id": "ac4eace8-1236-422f-b6f0-fc5aadbee316",
   "metadata": {},
   "outputs": [],
   "source": [
    "a = \"git_1\""
   ]
  },
  {
   "cell_type": "code",
   "execution_count": 3,
   "id": "51c7f505-39d9-4c18-970a-d6138c77a749",
   "metadata": {},
   "outputs": [
    {
     "name": "stdout",
     "output_type": "stream",
     "text": [
      "git_1\n"
     ]
    }
   ],
   "source": [
    "print(a)"
   ]
  },
  {
   "cell_type": "code",
   "execution_count": null,
   "id": "6a95ce9a-ad5d-490d-bf8a-f82b6e1273e4",
   "metadata": {},
   "outputs": [],
   "source": []
  }
 ],
 "metadata": {
  "kernelspec": {
   "display_name": "Python 3 (ipykernel)",
   "language": "python",
   "name": "python3"
  },
  "language_info": {
   "codemirror_mode": {
    "name": "ipython",
    "version": 3
   },
   "file_extension": ".py",
   "mimetype": "text/x-python",
   "name": "python",
   "nbconvert_exporter": "python",
   "pygments_lexer": "ipython3",
   "version": "3.9.12"
  }
 },
 "nbformat": 4,
 "nbformat_minor": 5
}
